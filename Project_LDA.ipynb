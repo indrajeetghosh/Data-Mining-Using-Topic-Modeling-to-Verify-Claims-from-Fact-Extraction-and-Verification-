{
 "cells": [
  {
   "cell_type": "code",
   "execution_count": 82,
   "metadata": {},
   "outputs": [
    {
     "name": "stderr",
     "output_type": "stream",
     "text": [
      "[nltk_data] Downloading package stopwords to\n",
      "[nltk_data]     C:\\Users\\sejan\\AppData\\Roaming\\nltk_data...\n",
      "[nltk_data]   Package stopwords is already up-to-date!\n"
     ]
    },
    {
     "data": {
      "text/plain": [
       "True"
      ]
     },
     "execution_count": 82,
     "metadata": {},
     "output_type": "execute_result"
    }
   ],
   "source": [
    "import nltk; nltk.download('stopwords')\n"
   ]
  },
  {
   "cell_type": "code",
   "execution_count": 100,
   "metadata": {},
   "outputs": [],
   "source": [
    "import pandas as pd\n",
    "import numpy as np"
   ]
  },
  {
   "cell_type": "code",
   "execution_count": 84,
   "metadata": {},
   "outputs": [],
   "source": [
    "# UB= pd.read_csv(\"D:\\\\Study\\\\Dr_Foulds\\\\Data_Mining\\\\Project\\\\urmita_train.csv\")\n",
    "# sj= pd.read_csv(\"D:\\Study\\Dr_Foulds\\Data_Mining\\Project\\sejan_train.csv\")\n",
    "# sk= pd.read_csv(\"D:\\Study\\Dr_Foulds\\Data_Mining\\Project\\sukrit_train.csv\")\n",
    "# ij= pd.read_csv(\"D:\\Study\\Dr_Foulds\\Data_Mining\\Project\\indrojit_train.csv\")\n",
    "\n",
    "# data_claims = UB.append([sj, sk, ij])\n",
    "\n",
    "# #I couldn't read json file for god knows what reason. So I had to read the previously split csv files and merge them together"
   ]
  },
  {
   "cell_type": "code",
   "execution_count": 102,
   "metadata": {},
   "outputs": [],
   "source": [
    "data_claims = pd.read_json(\"D:\\Study\\Dr_Foulds\\Data_Mining\\Project\\\\train.jsonl\", lines= True)"
   ]
  },
  {
   "cell_type": "code",
   "execution_count": 103,
   "metadata": {},
   "outputs": [
    {
     "data": {
      "text/html": [
       "<div>\n",
       "<style scoped>\n",
       "    .dataframe tbody tr th:only-of-type {\n",
       "        vertical-align: middle;\n",
       "    }\n",
       "\n",
       "    .dataframe tbody tr th {\n",
       "        vertical-align: top;\n",
       "    }\n",
       "\n",
       "    .dataframe thead th {\n",
       "        text-align: right;\n",
       "    }\n",
       "</style>\n",
       "<table border=\"1\" class=\"dataframe\">\n",
       "  <thead>\n",
       "    <tr style=\"text-align: right;\">\n",
       "      <th></th>\n",
       "      <th>claim</th>\n",
       "      <th>evidence</th>\n",
       "      <th>id</th>\n",
       "      <th>label</th>\n",
       "      <th>verifiable</th>\n",
       "    </tr>\n",
       "  </thead>\n",
       "  <tbody>\n",
       "    <tr>\n",
       "      <th>0</th>\n",
       "      <td>Nikolaj Coster-Waldau worked with the Fox Broa...</td>\n",
       "      <td>[[[92206, 104971, Nikolaj_Coster-Waldau, 7], [...</td>\n",
       "      <td>75397</td>\n",
       "      <td>SUPPORTS</td>\n",
       "      <td>VERIFIABLE</td>\n",
       "    </tr>\n",
       "    <tr>\n",
       "      <th>1</th>\n",
       "      <td>Roman Atwood is a content creator.</td>\n",
       "      <td>[[[174271, 187498, Roman_Atwood, 1]], [[174271...</td>\n",
       "      <td>150448</td>\n",
       "      <td>SUPPORTS</td>\n",
       "      <td>VERIFIABLE</td>\n",
       "    </tr>\n",
       "    <tr>\n",
       "      <th>2</th>\n",
       "      <td>History of art includes architecture, dance, s...</td>\n",
       "      <td>[[[255136, 254645, History_of_art, 2]]]</td>\n",
       "      <td>214861</td>\n",
       "      <td>SUPPORTS</td>\n",
       "      <td>VERIFIABLE</td>\n",
       "    </tr>\n",
       "    <tr>\n",
       "      <th>3</th>\n",
       "      <td>Adrienne Bailon is an accountant.</td>\n",
       "      <td>[[[180804, 193183, Adrienne_Bailon, 0]]]</td>\n",
       "      <td>156709</td>\n",
       "      <td>REFUTES</td>\n",
       "      <td>VERIFIABLE</td>\n",
       "    </tr>\n",
       "    <tr>\n",
       "      <th>4</th>\n",
       "      <td>System of a Down briefly disbanded in limbo.</td>\n",
       "      <td>[[[100277, None, None, None]]]</td>\n",
       "      <td>83235</td>\n",
       "      <td>NOT ENOUGH INFO</td>\n",
       "      <td>NOT VERIFIABLE</td>\n",
       "    </tr>\n",
       "  </tbody>\n",
       "</table>\n",
       "</div>"
      ],
      "text/plain": [
       "                                               claim  \\\n",
       "0  Nikolaj Coster-Waldau worked with the Fox Broa...   \n",
       "1                 Roman Atwood is a content creator.   \n",
       "2  History of art includes architecture, dance, s...   \n",
       "3                  Adrienne Bailon is an accountant.   \n",
       "4       System of a Down briefly disbanded in limbo.   \n",
       "\n",
       "                                            evidence      id            label  \\\n",
       "0  [[[92206, 104971, Nikolaj_Coster-Waldau, 7], [...   75397         SUPPORTS   \n",
       "1  [[[174271, 187498, Roman_Atwood, 1]], [[174271...  150448         SUPPORTS   \n",
       "2            [[[255136, 254645, History_of_art, 2]]]  214861         SUPPORTS   \n",
       "3           [[[180804, 193183, Adrienne_Bailon, 0]]]  156709          REFUTES   \n",
       "4                     [[[100277, None, None, None]]]   83235  NOT ENOUGH INFO   \n",
       "\n",
       "       verifiable  \n",
       "0      VERIFIABLE  \n",
       "1      VERIFIABLE  \n",
       "2      VERIFIABLE  \n",
       "3      VERIFIABLE  \n",
       "4  NOT VERIFIABLE  "
      ]
     },
     "execution_count": 103,
     "metadata": {},
     "output_type": "execute_result"
    }
   ],
   "source": [
    "data_claims.head()"
   ]
  },
  {
   "cell_type": "code",
   "execution_count": 104,
   "metadata": {},
   "outputs": [
    {
     "data": {
      "text/plain": [
       "False"
      ]
     },
     "execution_count": 104,
     "metadata": {},
     "output_type": "execute_result"
    }
   ],
   "source": [
    "data_claims.isnull().values.any()"
   ]
  },
  {
   "cell_type": "code",
   "execution_count": 132,
   "metadata": {},
   "outputs": [
    {
     "data": {
      "text/plain": [
       "[[[282986, 277116, 'Thor-COLON-_The_Dark_World', 0]],\n",
       " [[282986, 277117, 'Thor-COLON-_The_Dark_World', 1]],\n",
       " [[282986, 277118, 'Thor-COLON-_The_Dark_World', 2]],\n",
       " [[282986, 277119, 'Thor-COLON-_The_Dark_World', 9]],\n",
       " [[282986, 277120, 'Thor-COLON-_The_Dark_World', 17]],\n",
       " [[284882, 278627, 'Thor-COLON-_The_Dark_World', 0]],\n",
       " [[285686, 279323, 'Thor-COLON-_The_Dark_World', 0]],\n",
       " [[331430, 317966, 'Thor-COLON-_The_Dark_World', 0]],\n",
       " [[331433, 317969, 'Thor-COLON-_The_Dark_World', 0]],\n",
       " [[331433, 317970, 'Thor-COLON-_The_Dark_World', 1]],\n",
       " [[331433, 317971, 'Thor-COLON-_The_Dark_World', 2]],\n",
       " [[331433, 317972, 'Thor-COLON-_The_Dark_World', 15],\n",
       "  [331433, 317972, 'Odeon_Leicester_Square', 0]],\n",
       " [[331433, 317973, 'Thor-COLON-_The_Dark_World', 16]],\n",
       " [[331433, 317974, 'Thor-COLON-_The_Dark_World', 17]]]"
      ]
     },
     "execution_count": 132,
     "metadata": {},
     "output_type": "execute_result"
    }
   ],
   "source": [
    "data_claims['evidence'][234]"
   ]
  },
  {
   "cell_type": "code",
   "execution_count": 105,
   "metadata": {},
   "outputs": [
    {
     "name": "stderr",
     "output_type": "stream",
     "text": [
      "C:\\ProgramData\\Anaconda3\\lib\\site-packages\\ipykernel_launcher.py:2: SettingWithCopyWarning: \n",
      "A value is trying to be set on a copy of a slice from a DataFrame.\n",
      "Try using .loc[row_indexer,col_indexer] = value instead\n",
      "\n",
      "See the caveats in the documentation: http://pandas.pydata.org/pandas-docs/stable/indexing.html#indexing-view-versus-copy\n",
      "  \n"
     ]
    }
   ],
   "source": [
    "data_text_claims = data_claims[['claim']]\n",
    "data_text_claims['index'] = data_text_claims.index\n",
    "documents_claim = data_text_claims"
   ]
  },
  {
   "cell_type": "code",
   "execution_count": 106,
   "metadata": {},
   "outputs": [
    {
     "name": "stdout",
     "output_type": "stream",
     "text": [
      "145449\n",
      "                                               claim  index\n",
      "0  Nikolaj Coster-Waldau worked with the Fox Broa...      0\n",
      "1                 Roman Atwood is a content creator.      1\n",
      "2  History of art includes architecture, dance, s...      2\n",
      "3                  Adrienne Bailon is an accountant.      3\n",
      "4       System of a Down briefly disbanded in limbo.      4\n"
     ]
    }
   ],
   "source": [
    "print(len(documents_claim))\n",
    "print(documents_claim[:5])"
   ]
  },
  {
   "cell_type": "code",
   "execution_count": 107,
   "metadata": {},
   "outputs": [
    {
     "name": "stderr",
     "output_type": "stream",
     "text": [
      "[nltk_data] Downloading package wordnet to\n",
      "[nltk_data]     C:\\Users\\sejan\\AppData\\Roaming\\nltk_data...\n",
      "[nltk_data]   Package wordnet is already up-to-date!\n"
     ]
    },
    {
     "data": {
      "text/plain": [
       "True"
      ]
     },
     "execution_count": 107,
     "metadata": {},
     "output_type": "execute_result"
    }
   ],
   "source": [
    "import gensim\n",
    "from gensim.utils import simple_preprocess\n",
    "from gensim.parsing.preprocessing import STOPWORDS\n",
    "from nltk.stem import WordNetLemmatizer, SnowballStemmer\n",
    "from nltk.stem.porter import *\n",
    "import numpy as np\n",
    "np.random.seed(2018)\n",
    "import nltk\n",
    "nltk.download('wordnet')"
   ]
  },
  {
   "cell_type": "code",
   "execution_count": 108,
   "metadata": {},
   "outputs": [],
   "source": [
    "from nltk import PorterStemmer"
   ]
  },
  {
   "cell_type": "code",
   "execution_count": 109,
   "metadata": {},
   "outputs": [],
   "source": [
    "def lemmatize_stemming(text):\n",
    "    return PorterStemmer().stem(WordNetLemmatizer().lemmatize(text, pos='v'))\n",
    "def preprocess(text):\n",
    "    result = []\n",
    "    for token in gensim.utils.simple_preprocess(text):\n",
    "        if token not in gensim.parsing.preprocessing.STOPWORDS and len(token) > 3:\n",
    "            result.append(lemmatize_stemming(token))\n",
    "    return result"
   ]
  },
  {
   "cell_type": "code",
   "execution_count": 110,
   "metadata": {},
   "outputs": [
    {
     "name": "stdout",
     "output_type": "stream",
     "text": [
      "original document: \n",
      "['Nikolaj', 'Coster-Waldau', 'worked', 'with', 'the', 'Fox', 'Broadcasting', 'Company.']\n",
      "\n",
      "\n",
      " tokenized and lemmatized document: \n",
      "['nikolaj', 'coster', 'waldau', 'work', 'broadcast', 'compani']\n"
     ]
    }
   ],
   "source": [
    "doc_sample = documents_claim[documents_claim['index'] == 0].values[0][0]\n",
    "print('original document: ')\n",
    "words = []\n",
    "for word in doc_sample.split(' '):\n",
    "    words.append(word)\n",
    "print(words)\n",
    "print('\\n\\n tokenized and lemmatized document: ')\n",
    "print(preprocess(doc_sample))"
   ]
  },
  {
   "cell_type": "code",
   "execution_count": 111,
   "metadata": {},
   "outputs": [
    {
     "data": {
      "text/plain": [
       "0    [nikolaj, coster, waldau, work, broadcast, com...\n",
       "1                    [roman, atwood, content, creator]\n",
       "2    [histori, includ, architectur, danc, sculptur,...\n",
       "3                           [adrienn, bailon, account]\n",
       "4                            [briefli, disband, limbo]\n",
       "5    [homeland, american, televis, thriller, base, ...\n",
       "6                   [beauti, reach, number, billboard]\n",
       "7                                  [neal, schon, name]\n",
       "8           [boston, celtic, play, home, game, garden]\n",
       "9                                [command, epic, film]\n",
       "Name: claim, dtype: object"
      ]
     },
     "execution_count": 111,
     "metadata": {},
     "output_type": "execute_result"
    }
   ],
   "source": [
    "processed_docs_claims = documents_claim['claim'].map(preprocess)\n",
    "processed_docs_claims[:10]"
   ]
  },
  {
   "cell_type": "code",
   "execution_count": 112,
   "metadata": {},
   "outputs": [
    {
     "name": "stdout",
     "output_type": "stream",
     "text": [
      "0 broadcast\n",
      "1 compani\n",
      "2 coster\n",
      "3 nikolaj\n",
      "4 waldau\n",
      "5 work\n",
      "6 atwood\n",
      "7 content\n",
      "8 creator\n",
      "9 roman\n",
      "10 architectur\n"
     ]
    }
   ],
   "source": [
    "dictionary_claims = gensim.corpora.Dictionary(processed_docs_claims)\n",
    "count = 0\n",
    "for k, v in dictionary_claims.iteritems():\n",
    "    print(k, v)\n",
    "    count += 1\n",
    "    if count > 10:\n",
    "        break"
   ]
  },
  {
   "cell_type": "code",
   "execution_count": 113,
   "metadata": {},
   "outputs": [],
   "source": [
    "dictionary_claims.filter_extremes(no_below=15, no_above=0.5, keep_n=100000)\n"
   ]
  },
  {
   "cell_type": "code",
   "execution_count": 114,
   "metadata": {},
   "outputs": [
    {
     "data": {
      "text/plain": [
       "[(411, 1), (664, 1), (1714, 1)]"
      ]
     },
     "execution_count": 114,
     "metadata": {},
     "output_type": "execute_result"
    }
   ],
   "source": [
    "bow_corpus_claims = [dictionary_claims.doc2bow(doc) for doc in processed_docs_claims]\n",
    "bow_corpus_claims[4310]"
   ]
  },
  {
   "cell_type": "code",
   "execution_count": 115,
   "metadata": {},
   "outputs": [
    {
     "name": "stdout",
     "output_type": "stream",
     "text": [
      "Word 411 (\"polit\") appears 1 time.\n",
      "Word 664 (\"phoenix\") appears 1 time.\n",
      "Word 1714 (\"genghi\") appears 1 time.\n"
     ]
    }
   ],
   "source": [
    "bow_doc_4310 = bow_corpus_claims[4310]\n",
    "for i in range(len(bow_doc_4310)):\n",
    "    print(\"Word {} (\\\"{}\\\") appears {} time.\".format(bow_doc_4310[i][0], \n",
    "                                               dictionary_claims[bow_doc_4310[i][0]], \n",
    "bow_doc_4310[i][1]))"
   ]
  },
  {
   "cell_type": "code",
   "execution_count": 116,
   "metadata": {},
   "outputs": [
    {
     "name": "stdout",
     "output_type": "stream",
     "text": [
      "[(0, 0.3748751235065841),\n",
      " (1, 0.30104812118000485),\n",
      " (2, 0.4898438626691778),\n",
      " (3, 0.4898438626691778),\n",
      " (4, 0.4898438626691778),\n",
      " (5, 0.22135410799425279)]\n"
     ]
    }
   ],
   "source": [
    "from gensim import corpora, models\n",
    "tfidf = models.TfidfModel(bow_corpus_claims)\n",
    "corpus_tfidf = tfidf[bow_corpus_claims]\n",
    "from pprint import pprint\n",
    "for doc in corpus_tfidf:\n",
    "    pprint(doc)\n",
    "    break"
   ]
  },
  {
   "cell_type": "code",
   "execution_count": 118,
   "metadata": {},
   "outputs": [],
   "source": [
    "lda_model = gensim.models.LdaMulticore(bow_corpus_claims, num_topics=40, id2word=dictionary_claims, passes=2, workers=2)"
   ]
  },
  {
   "cell_type": "markdown",
   "metadata": {},
   "source": [
    "# This is for the Claims dataset topics\n"
   ]
  },
  {
   "cell_type": "code",
   "execution_count": 119,
   "metadata": {
    "scrolled": true
   },
   "outputs": [
    {
     "name": "stdout",
     "output_type": "stream",
     "text": [
      "Topic: 0 \n",
      "Words: 0.149*\"state\" + 0.131*\"unit\" + 0.057*\"countri\" + 0.038*\"artist\" + 0.031*\"kingdom\" + 0.028*\"sell\" + 0.023*\"go\" + 0.018*\"break\" + 0.016*\"largest\" + 0.015*\"johnson\"\n",
      "Topic: 1 \n",
      "Words: 0.070*\"english\" + 0.039*\"multipl\" + 0.034*\"sport\" + 0.028*\"charl\" + 0.026*\"popular\" + 0.022*\"star\" + 0.021*\"cultur\" + 0.017*\"michael\" + 0.017*\"henri\" + 0.016*\"commun\"\n",
      "Topic: 2 \n",
      "Words: 0.114*\"record\" + 0.072*\"british\" + 0.030*\"sign\" + 0.030*\"success\" + 0.026*\"angel\" + 0.023*\"present\" + 0.023*\"wyatt\" + 0.022*\"nick\" + 0.022*\"earp\" + 0.021*\"australia\"\n",
      "Topic: 3 \n",
      "Words: 0.063*\"america\" + 0.039*\"profession\" + 0.039*\"team\" + 0.038*\"footbal\" + 0.038*\"player\" + 0.034*\"play\" + 0.034*\"north\" + 0.031*\"border\" + 0.028*\"marri\" + 0.020*\"leagu\"\n",
      "Topic: 4 \n",
      "Words: 0.079*\"die\" + 0.068*\"book\" + 0.045*\"comic\" + 0.033*\"famili\" + 0.025*\"bear\" + 0.024*\"brown\" + 0.024*\"christian\" + 0.022*\"januari\" + 0.020*\"attack\" + 0.018*\"titan\"\n",
      "Topic: 5 \n",
      "Words: 0.055*\"group\" + 0.039*\"univers\" + 0.031*\"indian\" + 0.024*\"write\" + 0.023*\"peter\" + 0.021*\"neil\" + 0.020*\"fantasi\" + 0.019*\"activ\" + 0.018*\"wood\" + 0.017*\"film\"\n",
      "Topic: 6 \n",
      "Words: 0.161*\"actor\" + 0.097*\"star\" + 0.082*\"actress\" + 0.039*\"voic\" + 0.039*\"william\" + 0.030*\"american\" + 0.025*\"night\" + 0.020*\"critic\" + 0.016*\"mountain\" + 0.015*\"ann\"\n",
      "Topic: 7 \n",
      "Words: 0.084*\"music\" + 0.072*\"band\" + 0.048*\"rock\" + 0.027*\"boston\" + 0.026*\"california\" + 0.022*\"birth\" + 0.022*\"adapt\" + 0.020*\"elizabeth\" + 0.017*\"date\" + 0.015*\"bank\"\n",
      "Topic: 8 \n",
      "Words: 0.220*\"releas\" + 0.140*\"album\" + 0.037*\"debut\" + 0.036*\"singl\" + 0.025*\"number\" + 0.022*\"second\" + 0.019*\"call\" + 0.019*\"richard\" + 0.015*\"tour\" + 0.011*\"harri\"\n",
      "Topic: 9 \n",
      "Words: 0.127*\"charact\" + 0.034*\"model\" + 0.023*\"main\" + 0.022*\"christoph\" + 0.022*\"parti\" + 0.021*\"carter\" + 0.020*\"star\" + 0.020*\"street\" + 0.019*\"politician\" + 0.018*\"wall\"\n",
      "Topic: 10 \n",
      "Words: 0.032*\"fame\" + 0.030*\"hall\" + 0.029*\"citizen\" + 0.024*\"good\" + 0.024*\"fight\" + 0.023*\"region\" + 0.023*\"roll\" + 0.022*\"work\" + 0.020*\"beatl\" + 0.020*\"american\"\n",
      "Topic: 11 \n",
      "Words: 0.138*\"john\" + 0.046*\"canadian\" + 0.037*\"taylor\" + 0.035*\"paul\" + 0.032*\"writer\" + 0.025*\"host\" + 0.021*\"simon\" + 0.021*\"star\" + 0.017*\"cooper\" + 0.017*\"kelli\"\n",
      "Topic: 12 \n",
      "Words: 0.064*\"jam\" + 0.060*\"season\" + 0.058*\"stori\" + 0.034*\"horror\" + 0.022*\"american\" + 0.020*\"joseph\" + 0.020*\"rice\" + 0.018*\"follow\" + 0.015*\"muhammad\" + 0.014*\"short\"\n",
      "Topic: 13 \n",
      "Words: 0.069*\"novel\" + 0.038*\"video\" + 0.036*\"develop\" + 0.035*\"origin\" + 0.031*\"game\" + 0.030*\"jennif\" + 0.028*\"base\" + 0.026*\"march\" + 0.026*\"august\" + 0.025*\"bear\"\n",
      "Topic: 14 \n",
      "Words: 0.060*\"place\" + 0.039*\"take\" + 0.032*\"hold\" + 0.031*\"exclus\" + 0.026*\"death\" + 0.026*\"island\" + 0.025*\"center\" + 0.023*\"twilight\" + 0.021*\"offic\" + 0.018*\"comedian\"\n",
      "Topic: 15 \n",
      "Words: 0.077*\"time\" + 0.041*\"middl\" + 0.032*\"career\" + 0.027*\"come\" + 0.025*\"washington\" + 0.022*\"govern\" + 0.021*\"seven\" + 0.020*\"collabor\" + 0.020*\"jerri\" + 0.018*\"earth\"\n",
      "Topic: 16 \n",
      "Words: 0.101*\"singer\" + 0.040*\"beauti\" + 0.039*\"steve\" + 0.033*\"start\" + 0.030*\"songwrit\" + 0.019*\"googl\" + 0.018*\"american\" + 0.015*\"christina\" + 0.014*\"josh\" + 0.014*\"roman\"\n",
      "Topic: 17 \n",
      "Words: 0.081*\"song\" + 0.049*\"studio\" + 0.028*\"name\" + 0.024*\"boy\" + 0.021*\"child\" + 0.021*\"young\" + 0.019*\"caus\" + 0.018*\"fifth\" + 0.018*\"album\" + 0.018*\"design\"\n",
      "Topic: 18 \n",
      "Words: 0.066*\"georg\" + 0.033*\"author\" + 0.030*\"zero\" + 0.030*\"martin\" + 0.029*\"fail\" + 0.028*\"championship\" + 0.027*\"jane\" + 0.025*\"mike\" + 0.021*\"februari\" + 0.016*\"lose\"\n",
      "Topic: 19 \n",
      "Words: 0.040*\"french\" + 0.037*\"work\" + 0.030*\"industri\" + 0.020*\"steven\" + 0.019*\"produc\" + 0.019*\"russel\" + 0.018*\"great\" + 0.018*\"dougla\" + 0.017*\"differ\" + 0.017*\"adel\"\n",
      "Topic: 20 \n",
      "Words: 0.068*\"begin\" + 0.054*\"incap\" + 0.047*\"england\" + 0.020*\"toni\" + 0.019*\"elect\" + 0.019*\"brian\" + 0.018*\"feder\" + 0.018*\"eminem\" + 0.016*\"career\" + 0.015*\"leader\"\n",
      "Topic: 21 \n",
      "Words: 0.046*\"home\" + 0.032*\"sing\" + 0.029*\"children\" + 0.024*\"product\" + 0.021*\"water\" + 0.021*\"princ\" + 0.020*\"andrew\" + 0.019*\"germani\" + 0.018*\"associ\" + 0.016*\"emili\"\n",
      "Topic: 22 \n",
      "Words: 0.059*\"member\" + 0.058*\"compani\" + 0.037*\"million\" + 0.033*\"found\" + 0.029*\"south\" + 0.029*\"centuri\" + 0.020*\"rank\" + 0.018*\"disney\" + 0.017*\"gross\" + 0.017*\"organ\"\n",
      "Topic: 23 \n",
      "Words: 0.087*\"world\" + 0.083*\"citi\" + 0.038*\"popul\" + 0.031*\"juli\" + 0.028*\"canada\" + 0.027*\"april\" + 0.022*\"capit\" + 0.022*\"india\" + 0.021*\"bear\" + 0.016*\"largest\"\n",
      "Topic: 24 \n",
      "Words: 0.039*\"episod\" + 0.026*\"contain\" + 0.024*\"harri\" + 0.023*\"dark\" + 0.021*\"potter\" + 0.021*\"creator\" + 0.020*\"champion\" + 0.019*\"tyler\" + 0.019*\"deadpool\" + 0.018*\"world\"\n",
      "Topic: 25 \n",
      "Words: 0.049*\"chri\" + 0.044*\"german\" + 0.037*\"empir\" + 0.024*\"power\" + 0.022*\"diseas\" + 0.019*\"crime\" + 0.018*\"honor\" + 0.015*\"rule\" + 0.015*\"adolf\" + 0.013*\"competit\"\n",
      "Topic: 26 \n",
      "Words: 0.066*\"love\" + 0.022*\"sequel\" + 0.021*\"studi\" + 0.018*\"open\" + 0.016*\"star\" + 0.016*\"pablo\" + 0.016*\"alex\" + 0.015*\"athlet\" + 0.015*\"girl\" + 0.015*\"train\"\n",
      "Topic: 27 \n",
      "Words: 0.308*\"film\" + 0.080*\"direct\" + 0.041*\"director\" + 0.037*\"american\" + 0.023*\"star\" + 0.016*\"action\" + 0.014*\"thriller\" + 0.014*\"independ\" + 0.013*\"titl\" + 0.012*\"write\"\n",
      "Topic: 28 \n",
      "Words: 0.059*\"michael\" + 0.052*\"school\" + 0.038*\"jackson\" + 0.032*\"dragon\" + 0.027*\"mari\" + 0.026*\"tenni\" + 0.024*\"form\" + 0.024*\"person\" + 0.021*\"white\" + 0.021*\"allen\"\n",
      "Topic: 29 \n",
      "Words: 0.039*\"bear\" + 0.031*\"planet\" + 0.030*\"june\" + 0.025*\"final\" + 0.025*\"london\" + 0.023*\"lisa\" + 0.023*\"screenwrit\" + 0.023*\"septemb\" + 0.020*\"ape\" + 0.020*\"basketbal\"\n",
      "Topic: 30 \n",
      "Words: 0.048*\"black\" + 0.040*\"girl\" + 0.033*\"doctor\" + 0.026*\"gener\" + 0.023*\"emma\" + 0.021*\"blue\" + 0.017*\"korean\" + 0.016*\"coloni\" + 0.015*\"hungari\" + 0.015*\"month\"\n",
      "Topic: 31 \n",
      "Words: 0.212*\"award\" + 0.088*\"nomin\" + 0.071*\"receiv\" + 0.068*\"best\" + 0.057*\"academi\" + 0.026*\"golden\" + 0.020*\"emmi\" + 0.019*\"globe\" + 0.018*\"win\" + 0.015*\"actor\"\n",
      "Topic: 32 \n",
      "Words: 0.073*\"film\" + 0.065*\"comedi\" + 0.064*\"drama\" + 0.040*\"musician\" + 0.026*\"american\" + 0.024*\"europ\" + 0.023*\"romant\" + 0.022*\"star\" + 0.016*\"natali\" + 0.013*\"dawn\"\n",
      "Topic: 33 \n",
      "Words: 0.054*\"presid\" + 0.043*\"york\" + 0.028*\"portray\" + 0.028*\"review\" + 0.022*\"european\" + 0.021*\"serv\" + 0.019*\"kurt\" + 0.019*\"batman\" + 0.019*\"posit\" + 0.014*\"union\"\n",
      "Topic: 34 \n",
      "Words: 0.057*\"languag\" + 0.043*\"frank\" + 0.030*\"franc\" + 0.029*\"high\" + 0.028*\"ocean\" + 0.027*\"speak\" + 0.025*\"scott\" + 0.020*\"italian\" + 0.017*\"experi\" + 0.016*\"glenn\"\n",
      "Topic: 35 \n",
      "Words: 0.057*\"fiction\" + 0.055*\"star\" + 0.041*\"premier\" + 0.033*\"scienc\" + 0.032*\"film\" + 0.031*\"west\" + 0.029*\"war\" + 0.020*\"decemb\" + 0.019*\"adam\" + 0.017*\"novemb\"\n",
      "Topic: 36 \n",
      "Words: 0.102*\"role\" + 0.102*\"featur\" + 0.038*\"lead\" + 0.033*\"peopl\" + 0.028*\"film\" + 0.027*\"play\" + 0.021*\"western\" + 0.019*\"dead\" + 0.018*\"list\" + 0.016*\"danc\"\n",
      "Topic: 37 \n",
      "Words: 0.082*\"david\" + 0.066*\"creat\" + 0.056*\"game\" + 0.046*\"anim\" + 0.038*\"intern\" + 0.033*\"includ\" + 0.027*\"throne\" + 0.024*\"entertain\" + 0.019*\"relat\" + 0.019*\"olymp\"\n",
      "Topic: 38 \n",
      "Words: 0.187*\"seri\" + 0.137*\"televis\" + 0.031*\"american\" + 0.031*\"air\" + 0.024*\"star\" + 0.023*\"father\" + 0.017*\"network\" + 0.016*\"appear\" + 0.015*\"lili\" + 0.013*\"birthday\"\n",
      "Topic: 39 \n",
      "Words: 0.058*\"cast\" + 0.042*\"hous\" + 0.035*\"spider\" + 0.030*\"major\" + 0.029*\"polit\" + 0.027*\"mark\" + 0.025*\"brother\" + 0.021*\"histori\" + 0.020*\"paul\" + 0.020*\"entir\"\n"
     ]
    }
   ],
   "source": [
    "for idx, topic in lda_model.print_topics(-1):\n",
    "    print('Topic: {} \\nWords: {}'.format(idx, topic))"
   ]
  },
  {
   "cell_type": "markdown",
   "metadata": {},
   "source": [
    "# doc2vec implementation \n"
   ]
  },
  {
   "cell_type": "code",
   "execution_count": 120,
   "metadata": {},
   "outputs": [],
   "source": [
    "# from gensim.models.doc2vec import Doc2Vec"
   ]
  },
  {
   "cell_type": "code",
   "execution_count": 154,
   "metadata": {},
   "outputs": [],
   "source": [
    "# model = Doc2Vec(documents_claim['claim'], dm=0, alpha= 0.025, size= 20, min_alpha= 0.025, min_count=0)"
   ]
  },
  {
   "cell_type": "code",
   "execution_count": 156,
   "metadata": {},
   "outputs": [],
   "source": [
    "# sentences=models.doc2vec.TaggedLineDocument(data_claims['claim'])\n",
    "# text_model=models.doc2vec.Doc2Vec(sentences, size=100, window=5, dm=1, dm_mean=1)\n",
    "# text_input=text_model.docvecs.doctag_syn0"
   ]
  },
  {
   "cell_type": "code",
   "execution_count": 136,
   "metadata": {},
   "outputs": [],
   "source": [
    "import pandas as pd\n",
    "import numpy as np\n",
    "from tqdm import tqdm\n",
    "tqdm.pandas(desc=\"progress-bar\")\n",
    "from gensim.models import Doc2Vec\n",
    "from sklearn import utils\n",
    "from sklearn.model_selection import train_test_split\n",
    "import gensim\n",
    "from sklearn.linear_model import LogisticRegression\n",
    "from gensim.models.doc2vec import TaggedDocument\n",
    "import re\n",
    "import seaborn as sns\n",
    "import matplotlib.pyplot as plt"
   ]
  },
  {
   "cell_type": "code",
   "execution_count": 137,
   "metadata": {},
   "outputs": [
    {
     "data": {
      "text/html": [
       "<div>\n",
       "<style scoped>\n",
       "    .dataframe tbody tr th:only-of-type {\n",
       "        vertical-align: middle;\n",
       "    }\n",
       "\n",
       "    .dataframe tbody tr th {\n",
       "        vertical-align: top;\n",
       "    }\n",
       "\n",
       "    .dataframe thead th {\n",
       "        text-align: right;\n",
       "    }\n",
       "</style>\n",
       "<table border=\"1\" class=\"dataframe\">\n",
       "  <thead>\n",
       "    <tr style=\"text-align: right;\">\n",
       "      <th></th>\n",
       "      <th>claim</th>\n",
       "      <th>label</th>\n",
       "    </tr>\n",
       "  </thead>\n",
       "  <tbody>\n",
       "    <tr>\n",
       "      <th>0</th>\n",
       "      <td>Nikolaj Coster-Waldau worked with the Fox Broa...</td>\n",
       "      <td>SUPPORTS</td>\n",
       "    </tr>\n",
       "    <tr>\n",
       "      <th>1</th>\n",
       "      <td>Roman Atwood is a content creator.</td>\n",
       "      <td>SUPPORTS</td>\n",
       "    </tr>\n",
       "    <tr>\n",
       "      <th>2</th>\n",
       "      <td>History of art includes architecture, dance, s...</td>\n",
       "      <td>SUPPORTS</td>\n",
       "    </tr>\n",
       "    <tr>\n",
       "      <th>3</th>\n",
       "      <td>Adrienne Bailon is an accountant.</td>\n",
       "      <td>REFUTES</td>\n",
       "    </tr>\n",
       "    <tr>\n",
       "      <th>4</th>\n",
       "      <td>System of a Down briefly disbanded in limbo.</td>\n",
       "      <td>NOT ENOUGH INFO</td>\n",
       "    </tr>\n",
       "    <tr>\n",
       "      <th>5</th>\n",
       "      <td>Homeland is an American television spy thrille...</td>\n",
       "      <td>SUPPORTS</td>\n",
       "    </tr>\n",
       "    <tr>\n",
       "      <th>6</th>\n",
       "      <td>Beautiful reached number two on the Billboard ...</td>\n",
       "      <td>NOT ENOUGH INFO</td>\n",
       "    </tr>\n",
       "    <tr>\n",
       "      <th>7</th>\n",
       "      <td>Neal Schon was named in 1954.</td>\n",
       "      <td>NOT ENOUGH INFO</td>\n",
       "    </tr>\n",
       "    <tr>\n",
       "      <th>8</th>\n",
       "      <td>The Boston Celtics play their home games at TD...</td>\n",
       "      <td>SUPPORTS</td>\n",
       "    </tr>\n",
       "    <tr>\n",
       "      <th>9</th>\n",
       "      <td>The Ten Commandments is an epic film.</td>\n",
       "      <td>SUPPORTS</td>\n",
       "    </tr>\n",
       "  </tbody>\n",
       "</table>\n",
       "</div>"
      ],
      "text/plain": [
       "                                               claim            label\n",
       "0  Nikolaj Coster-Waldau worked with the Fox Broa...         SUPPORTS\n",
       "1                 Roman Atwood is a content creator.         SUPPORTS\n",
       "2  History of art includes architecture, dance, s...         SUPPORTS\n",
       "3                  Adrienne Bailon is an accountant.          REFUTES\n",
       "4       System of a Down briefly disbanded in limbo.  NOT ENOUGH INFO\n",
       "5  Homeland is an American television spy thrille...         SUPPORTS\n",
       "6  Beautiful reached number two on the Billboard ...  NOT ENOUGH INFO\n",
       "7                      Neal Schon was named in 1954.  NOT ENOUGH INFO\n",
       "8  The Boston Celtics play their home games at TD...         SUPPORTS\n",
       "9              The Ten Commandments is an epic film.         SUPPORTS"
      ]
     },
     "execution_count": 137,
     "metadata": {},
     "output_type": "execute_result"
    }
   ],
   "source": [
    "# df = pd.read_csv('Consumer_Complaints.csv')\n",
    "df = data_claims[['claim','label']]\n",
    "df = df[pd.notnull(df['claim'])]\n",
    "# df.rename(columns = {'Consumer complaint narrative':'narrative'}, inplace = True)\n",
    "df.head(10)"
   ]
  },
  {
   "cell_type": "code",
   "execution_count": 138,
   "metadata": {},
   "outputs": [
    {
     "data": {
      "text/plain": [
       "(145449, 2)"
      ]
     },
     "execution_count": 138,
     "metadata": {},
     "output_type": "execute_result"
    }
   ],
   "source": [
    "df.shape"
   ]
  },
  {
   "cell_type": "code",
   "execution_count": 140,
   "metadata": {},
   "outputs": [
    {
     "data": {
      "text/plain": [
       "1178450"
      ]
     },
     "execution_count": 140,
     "metadata": {},
     "output_type": "execute_result"
    }
   ],
   "source": [
    "df.index = range(145449)\n",
    "df['claim'].apply(lambda x: len(x.split(' '))).sum()"
   ]
  },
  {
   "cell_type": "code",
   "execution_count": 141,
   "metadata": {},
   "outputs": [
    {
     "data": {
      "image/png": "[encoded data removed]",
      "text/plain": [
       "<Figure size 864x288 with 1 Axes>"
      ]
     },
     "metadata": {
      "needs_background": "light"
     },
     "output_type": "display_data"
    }
   ],
   "source": [
    "cnt_pro = df['label'].value_counts()\n",
    "plt.figure(figsize=(12,4))\n",
    "sns.barplot(cnt_pro.index, cnt_pro.values, alpha=0.8)\n",
    "plt.ylabel('Number of Occurrences', fontsize=12)\n",
    "plt.xlabel('Product', fontsize=12)\n",
    "plt.xticks(rotation=90)\n",
    "plt.show()"
   ]
  },
  {
   "cell_type": "code",
   "execution_count": 142,
   "metadata": {},
   "outputs": [
    {
     "name": "stdout",
     "output_type": "stream",
     "text": [
      "There is a movie called The Hunger Games.\n",
      "label: SUPPORTS\n"
     ]
    }
   ],
   "source": [
    "def print_complaint(index):\n",
    "    example = df[df.index == index][['claim', 'label']].values[0]\n",
    "    if len(example) > 0:\n",
    "        print(example[0])\n",
    "        print('label:', example[1])\n",
    "print_complaint(12)"
   ]
  },
  {
   "cell_type": "code",
   "execution_count": 143,
   "metadata": {},
   "outputs": [],
   "source": [
    "from bs4 import BeautifulSoup\n",
    "def cleanText(text):\n",
    "    text = BeautifulSoup(text, \"lxml\").text\n",
    "    text = re.sub(r'\\|\\|\\|', r' ', text) \n",
    "    text = re.sub(r'http\\S+', r'<URL>', text)\n",
    "    text = text.lower()\n",
    "    text = text.replace('x', '')\n",
    "    return text\n",
    "df['claim'] = df['claim'].apply(cleanText)"
   ]
  },
  {
   "cell_type": "code",
   "execution_count": 144,
   "metadata": {},
   "outputs": [],
   "source": [
    "train, test = train_test_split(df, test_size=0.3, random_state=42)\n",
    "import nltk\n",
    "from nltk.corpus import stopwords\n",
    "def tokenize_text(text):\n",
    "    tokens = []\n",
    "    for sent in nltk.sent_tokenize(text):\n",
    "        for word in nltk.word_tokenize(sent):\n",
    "            if len(word) < 2:\n",
    "                continue\n",
    "            tokens.append(word.lower())\n",
    "    return tokens\n",
    "train_tagged = train.apply(\n",
    "    lambda r: TaggedDocument(words=tokenize_text(r['claim']), tags=[r.label]), axis=1)\n",
    "test_tagged = test.apply(\n",
    "    lambda r: TaggedDocument(words=tokenize_text(r['claim']), tags=[r.label]), axis=1)"
   ]
  },
  {
   "cell_type": "code",
   "execution_count": 145,
   "metadata": {},
   "outputs": [
    {
     "data": {
      "text/plain": [
       "TaggedDocument(words=['the', '1996', 'draft', 'was', 'the', 'one', 'allen', 'iverson', 'was', 'in'], tags=['SUPPORTS'])"
      ]
     },
     "execution_count": 145,
     "metadata": {},
     "output_type": "execute_result"
    }
   ],
   "source": [
    "train_tagged.values[30]"
   ]
  },
  {
   "cell_type": "code",
   "execution_count": 146,
   "metadata": {},
   "outputs": [],
   "source": [
    "import multiprocessing\n",
    "cores = multiprocessing.cpu_count()"
   ]
  },
  {
   "cell_type": "code",
   "execution_count": 147,
   "metadata": {},
   "outputs": [
    {
     "name": "stderr",
     "output_type": "stream",
     "text": [
      "100%|█████████████████████████████████████████████████████████████████████| 101814/101814 [00:00<00:00, 2828296.74it/s]\n"
     ]
    }
   ],
   "source": [
    "model_dbow = Doc2Vec(dm=0, vector_size=300, negative=5, hs=0, min_count=2, sample = 0, workers=cores)\n",
    "model_dbow.build_vocab([x for x in tqdm(train_tagged.values)])"
   ]
  },
  {
   "cell_type": "code",
   "execution_count": 148,
   "metadata": {},
   "outputs": [
    {
     "name": "stderr",
     "output_type": "stream",
     "text": [
      "100%|█████████████████████████████████████████████████████████████████████| 101814/101814 [00:00<00:00, 2828352.93it/s]\n",
      "100%|█████████████████████████████████████████████████████████████████████| 101814/101814 [00:00<00:00, 3178602.34it/s]\n",
      "100%|█████████████████████████████████████████████████████████████████████| 101814/101814 [00:00<00:00, 2825957.18it/s]\n",
      "100%|█████████████████████████████████████████████████████████████████████| 101814/101814 [00:00<00:00, 3184456.99it/s]\n",
      "100%|█████████████████████████████████████████████████████████████████████| 101814/101814 [00:00<00:00, 2825489.73it/s]\n",
      "100%|█████████████████████████████████████████████████████████████████████| 101814/101814 [00:00<00:00, 2828278.00it/s]\n",
      "100%|█████████████████████████████████████████████████████████████████████| 101814/101814 [00:00<00:00, 3178223.84it/s]\n",
      "100%|█████████████████████████████████████████████████████████████████████| 101814/101814 [00:00<00:00, 3181467.72it/s]\n",
      "100%|█████████████████████████████████████████████████████████████████████| 101814/101814 [00:00<00:00, 3636044.37it/s]\n",
      "100%|█████████████████████████████████████████████████████████████████████| 101814/101814 [00:00<00:00, 2828352.93it/s]\n",
      "100%|█████████████████████████████████████████████████████████████████████| 101814/101814 [00:00<00:00, 3181325.51it/s]\n",
      "100%|█████████████████████████████████████████████████████████████████████| 101814/101814 [00:00<00:00, 3178436.73it/s]\n",
      "100%|█████████████████████████████████████████████████████████████████████| 101814/101814 [00:00<00:00, 3182036.67it/s]\n",
      "100%|█████████████████████████████████████████████████████████████████████| 101814/101814 [00:00<00:00, 2545413.11it/s]\n",
      "100%|█████████████████████████████████████████████████████████████████████| 101814/101814 [00:00<00:00, 3179099.27it/s]\n",
      "100%|█████████████████████████████████████████████████████████████████████| 101814/101814 [00:00<00:00, 3179193.94it/s]\n",
      "100%|█████████████████████████████████████████████████████████████████████| 101814/101814 [00:00<00:00, 3181752.17it/s]\n",
      "100%|█████████████████████████████████████████████████████████████████████| 101814/101814 [00:00<00:00, 3179028.27it/s]\n",
      "100%|█████████████████████████████████████████████████████████████████████| 101814/101814 [00:00<00:00, 3179075.60it/s]\n",
      "100%|█████████████████████████████████████████████████████████████████████| 101814/101814 [00:00<00:00, 3179075.60it/s]\n",
      "100%|█████████████████████████████████████████████████████████████████████| 101814/101814 [00:00<00:00, 3179028.27it/s]\n",
      "100%|█████████████████████████████████████████████████████████████████████| 101814/101814 [00:00<00:00, 3178602.34it/s]\n",
      "100%|█████████████████████████████████████████████████████████████████████| 101814/101814 [00:00<00:00, 3178223.84it/s]\n",
      "100%|█████████████████████████████████████████████████████████████████████| 101814/101814 [00:00<00:00, 3181989.25it/s]\n",
      "100%|█████████████████████████████████████████████████████████████████████| 101814/101814 [00:00<00:00, 3181183.32it/s]\n",
      "100%|█████████████████████████████████████████████████████████████████████| 101814/101814 [00:00<00:00, 3178744.31it/s]\n",
      "100%|█████████████████████████████████████████████████████████████████████| 101814/101814 [00:00<00:00, 3181230.71it/s]\n",
      "100%|█████████████████████████████████████████████████████████████████████| 101814/101814 [00:00<00:00, 2828390.40it/s]\n",
      "100%|█████████████████████████████████████████████████████████████████████| 101814/101814 [00:00<00:00, 2828203.08it/s]\n",
      "100%|█████████████████████████████████████████████████████████████████████| 101814/101814 [00:00<00:00, 3182250.08it/s]\n"
     ]
    },
    {
     "name": "stdout",
     "output_type": "stream",
     "text": [
      "Wall time: 1min 17s\n"
     ]
    }
   ],
   "source": [
    "%%time\n",
    "for epoch in range(30):\n",
    "    model_dbow.train(utils.shuffle([x for x in tqdm(train_tagged.values)]), total_examples=len(train_tagged.values), epochs=1)\n",
    "    model_dbow.alpha -= 0.002\n",
    "    model_dbow.min_alpha = model_dbow.alpha\n"
   ]
  },
  {
   "cell_type": "code",
   "execution_count": 152,
   "metadata": {},
   "outputs": [],
   "source": [
    "def vec_for_learning(model, tagged_docs):\n",
    "    sents = tagged_docs.values\n",
    "    targets, regressors = zip(*[(doc.tags[0], model.infer_vector(doc.words, steps=20)) for doc in sents])\n",
    "    return targets, regressors"
   ]
  },
  {
   "cell_type": "code",
   "execution_count": 153,
   "metadata": {},
   "outputs": [
    {
     "name": "stderr",
     "output_type": "stream",
     "text": [
      "C:\\ProgramData\\Anaconda3\\lib\\site-packages\\sklearn\\linear_model\\logistic.py:433: FutureWarning: Default solver will be changed to 'lbfgs' in 0.22. Specify a solver to silence this warning.\n",
      "  FutureWarning)\n",
      "C:\\ProgramData\\Anaconda3\\lib\\site-packages\\sklearn\\linear_model\\logistic.py:460: FutureWarning: Default multi_class will be changed to 'auto' in 0.22. Specify the multi_class option to silence this warning.\n",
      "  \"this warning.\", FutureWarning)\n"
     ]
    },
    {
     "name": "stdout",
     "output_type": "stream",
     "text": [
      "Testing accuracy 0.572040792941446\n",
      "Testing F1 score: 0.4938696236488339\n"
     ]
    }
   ],
   "source": [
    "y_train, X_train = vec_for_learning(model_dbow, train_tagged)\n",
    "y_test, X_test = vec_for_learning(model_dbow, test_tagged)\n",
    "logreg = LogisticRegression(n_jobs=1, C=1e5)\n",
    "logreg.fit(X_train, y_train)\n",
    "y_pred = logreg.predict(X_test)\n",
    "from sklearn.metrics import accuracy_score, f1_score\n",
    "print('Testing accuracy %s' % accuracy_score(y_test, y_pred))\n",
    "print('Testing F1 score: {}'.format(f1_score(y_test, y_pred, average='weighted')))"
   ]
  },
  {
   "cell_type": "code",
   "execution_count": null,
   "metadata": {},
   "outputs": [],
   "source": []
  }
 ],
 "metadata": {
  "kernelspec": {
   "display_name": "Python 3",
   "language": "python",
   "name": "python3"
  },
  "language_info": {
   "codemirror_mode": {
    "name": "ipython",
    "version": 3
   },
   "file_extension": ".py",
   "mimetype": "text/x-python",
   "name": "python",
   "nbconvert_exporter": "python",
   "pygments_lexer": "ipython3",
   "version": "3.7.1"
  }
 },
 "nbformat": 4,
 "nbformat_minor": 2
}
